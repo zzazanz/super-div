{
 "cells": [
  {
   "cell_type": "markdown",
   "source": [
    "# 정수 나눗셈"
   ],
   "metadata": {
    "collapsed": false,
    "pycharm": {
     "name": "#%% md\n"
    }
   }
  },
  {
   "cell_type": "code",
   "execution_count": 168,
   "outputs": [
    {
     "name": "stdout",
     "output_type": "stream",
     "text": [
      "13 / 97\n",
      "0.\u001B[37m1\u001B[0m34020618556701030927835051546391752577319587628865979381443298969072164948453608247422680412371\u001B[37m1\u001B[0m\n",
      "**순환 소수**\n"
     ]
    }
   ],
   "source": [
    "one = int(input(\"나눠야 할 수: \"))\n",
    "two = int(input(\"나눌 수: \"))\n",
    "\n",
    "result = []\n",
    "remainders = []\n",
    "is_repeat = False\n",
    "repeat_start = 0\n",
    "\n",
    "def div(a, b, repeat):\n",
    "    # b의 값은 변하지 않음!\n",
    "    global repeat_start\n",
    "\n",
    "    if not repeat:\n",
    "        if a>b:\n",
    "            if a%b == 0:\n",
    "                result.append(a//b)\n",
    "                print(str(one) + \" / \" + str(two))\n",
    "                result_string = str(result[0])\n",
    "                if len(result) > 1:\n",
    "                    result_string += \".\"\n",
    "                    for i in result[1:len(result)]:\n",
    "                        result_string += str(i)\n",
    "                print(result_string)\n",
    "            else:\n",
    "                if a%b in remainders:\n",
    "                    repeat_start = remainders.index(a%b)\n",
    "                    div(0, 0, True) # 순환 소수 감지!\n",
    "                else:\n",
    "                    if len(result) > 0:\n",
    "                        remainders.append(a%b)\n",
    "                    result.append(a//b)\n",
    "                    div((a%b)*10, b, False)\n",
    "        else:\n",
    "            if (a*10)%b in remainders:\n",
    "                repeat_start = remainders.index((a*10)%b)\n",
    "                div(0, 0, True) # 순환 소수 감지!\n",
    "            else:\n",
    "                if len(result) > 0:\n",
    "                    remainders.append((a*10)%b)\n",
    "                result.append(0)\n",
    "                result.append((a*10)//b)\n",
    "                div(((a*10)%b)*10, b, False)\n",
    "    else:\n",
    "        print(str(one) + \" / \" + str(two))\n",
    "        result[repeat_start+1] = '\\033[37m' + str(result[repeat_start+1]) + '\\033[0m'\n",
    "        result[len(result)-1] = '\\033[37m' + str(result[len(result)-1]) + '\\033[0m'\n",
    "        result_string = str(result[0])\n",
    "        if len(result) > 1:\n",
    "            result_string += \".\"\n",
    "            for i in range(len(result[1:len(result)])):\n",
    "                result_string += str(result[i+1])\n",
    "\n",
    "        print(result_string)\n",
    "        print(\"**순환 소수**\")\n",
    "div(one, two, False)"
   ],
   "metadata": {
    "collapsed": false,
    "pycharm": {
     "name": "#%%\n"
    }
   }
  }
 ],
 "metadata": {
  "kernelspec": {
   "display_name": "Python 3",
   "language": "python",
   "name": "python3"
  },
  "language_info": {
   "codemirror_mode": {
    "name": "ipython",
    "version": 2
   },
   "file_extension": ".py",
   "mimetype": "text/x-python",
   "name": "python",
   "nbconvert_exporter": "python",
   "pygments_lexer": "ipython2",
   "version": "2.7.6"
  }
 },
 "nbformat": 4,
 "nbformat_minor": 0
}